{
 "cells": [
  {
   "cell_type": "code",
   "execution_count": 125,
   "metadata": {
    "collapsed": true
   },
   "outputs": [],
   "source": [
    "import numpy as np\n",
    "from numpy import matrix\n",
    "from numpy.linalg import inv\n",
    "from sklearn.metrics.pairwise import cosine_similarity"
   ]
  },
  {
   "cell_type": "markdown",
   "metadata": {},
   "source": [
    "## Initializing files containing decomposed matrix"
   ]
  },
  {
   "cell_type": "code",
   "execution_count": 66,
   "metadata": {
    "collapsed": true
   },
   "outputs": [],
   "source": [
    "left = ['../data/output_l2/left_singular_vectors_l2/part-00000.tsv', '../data/output_l2/left_singular_vectors_l2/part-00001.tsv']\n",
    "sing = ['../data/output_l2/singular_values_l2/part-00000.tsv']\n",
    "right = ['../data/output_l2/right_singular_vectors_l2/part-00000.tsv']\n",
    "\n",
    "orig = '../data/tfidf_l1.tsv'"
   ]
  },
  {
   "cell_type": "markdown",
   "metadata": {},
   "source": [
    "## Loading left"
   ]
  },
  {
   "cell_type": "code",
   "execution_count": 85,
   "metadata": {
    "collapsed": false
   },
   "outputs": [],
   "source": [
    "n_lines = 0\n",
    "\n",
    "for file in left:\n",
    "    f = open(file, 'r')\n",
    "    for line in f:\n",
    "        n_lines += 1\n",
    "    \n",
    "n_cols = len(line.split(\"\\t\")) - 1\n",
    "\n",
    "l_matrix = matrix(np.zeros(shape=(n_lines, n_cols)))\n",
    "\n",
    "for file in left:\n",
    "    f = open(file, 'r')\n",
    "    for line in f:\n",
    "        vals = line.split(\"\\t\")\n",
    "        arr = np.array([float(x) for x in vals])\n",
    "        l_matrix[int(vals[0])] = arr[1:]"
   ]
  },
  {
   "cell_type": "markdown",
   "metadata": {},
   "source": [
    "## Loading right"
   ]
  },
  {
   "cell_type": "code",
   "execution_count": 86,
   "metadata": {
    "collapsed": false
   },
   "outputs": [],
   "source": [
    "n_lines = 0\n",
    "\n",
    "for file in right:\n",
    "    f = open(file, 'r')\n",
    "    for line in f:\n",
    "        n_lines += 1\n",
    "\n",
    "n_cols = len(line.split(\"\\t\")) - 1\n",
    "\n",
    "r_matrix = matrix(np.zeros(shape=(n_lines, n_cols)))\n",
    "\n",
    "for file in right:\n",
    "    f = open(file, 'r')\n",
    "    for line in f:\n",
    "        vals = line.split(\"\\t\")\n",
    "        arr = np.array([float(x) for x in vals])\n",
    "        r_matrix[int(vals[0])] = arr[1:]"
   ]
  },
  {
   "cell_type": "markdown",
   "metadata": {},
   "source": [
    "## Loading singular"
   ]
  },
  {
   "cell_type": "code",
   "execution_count": 87,
   "metadata": {
    "collapsed": false
   },
   "outputs": [],
   "source": [
    "n_lines = 0\n",
    "\n",
    "for file in sing:\n",
    "    f = open(file, 'r')\n",
    "    for line in f:\n",
    "        n_lines += 1\n",
    "\n",
    "s_matrix = matrix(np.zeros(shape=(n_lines, n_lines)))\n",
    "\n",
    "row = 0\n",
    "for file in sing:\n",
    "    f = open(file, 'r')\n",
    "    for line in f:\n",
    "        s_matrix[row, row] = float(line)\n",
    "        row += 1"
   ]
  },
  {
   "cell_type": "code",
   "execution_count": 113,
   "metadata": {
    "collapsed": false
   },
   "outputs": [],
   "source": [
    "o_matrix = matrix(np.loadtxt(orig))\n",
    "o_matrix.shape\n",
    "o_t_matrix = o_matrix.T"
   ]
  },
  {
   "cell_type": "markdown",
   "metadata": {},
   "source": [
    "## Qt U S-1"
   ]
  },
  {
   "cell_type": "code",
   "execution_count": 117,
   "metadata": {
    "collapsed": false
   },
   "outputs": [],
   "source": [
    "q = o_t_matrix[1] * l_matrix * inv(s_matrix)"
   ]
  },
  {
   "cell_type": "code",
   "execution_count": 118,
   "metadata": {
    "collapsed": false
   },
   "outputs": [
    {
     "data": {
      "text/plain": [
       "matrix([[ 0.06391764, -0.00111874,  0.00428085, -0.00116095,  0.04045417,\n",
       "          0.02049844, -0.01234275,  0.03376772, -0.00586539, -0.02878992,\n",
       "          0.04057916, -0.00945539,  0.02367505, -0.01996885, -0.04137498,\n",
       "         -0.00861436,  0.02786005,  0.01664194, -0.01836262, -0.0597056 ]])"
      ]
     },
     "execution_count": 118,
     "metadata": {},
     "output_type": "execute_result"
    }
   ],
   "source": [
    "q"
   ]
  },
  {
   "cell_type": "code",
   "execution_count": 139,
   "metadata": {
    "collapsed": false
   },
   "outputs": [],
   "source": [
    "l = np.zeros(r_matrix.shape[0])\n",
    "for i, doc in enumerate(r_matrix):\n",
    "    l[i-1] = cosine_similarity(doc, q)"
   ]
  },
  {
   "cell_type": "code",
   "execution_count": 140,
   "metadata": {
    "collapsed": false
   },
   "outputs": [
    {
     "data": {
      "text/plain": [
       "array([ 1.        ,  0.09522746, -0.06463825,  0.45435997, -0.08294181,\n",
       "        0.1780377 ,  0.18959076,  0.09624363, -0.02827914,  0.4377274 ,\n",
       "       -0.2365632 ,  0.24611634,  0.51106515,  0.10381895,  0.22715118,\n",
       "       -0.17229421,  0.14545122,  0.0455207 ,  0.00820197,  0.23305748,\n",
       "       -0.14995522,  0.04704874,  0.3999227 ,  0.20059403,  0.54001031,\n",
       "       -0.18919415,  0.18003354,  0.26858375, -0.28125559,  0.23420543,\n",
       "        0.42567867, -0.04092704,  0.04896663,  0.31333047,  0.27983125,\n",
       "        0.57346001, -0.21053371, -0.19756335,  0.00850831,  0.44623903,\n",
       "        0.36527177,  0.17406742, -0.11998667,  0.23612671,  0.34814147,\n",
       "        0.39452682,  0.42426435,  0.16281237, -0.24226883,  0.38722676,\n",
       "        0.31402466,  0.41987965,  0.32961263,  0.26163233,  0.00516093,\n",
       "        0.46437058,  0.25939279,  0.06879318,  0.42517549,  0.07144853,\n",
       "        0.33326837, -0.06425831,  0.15396253,  0.07716817,  0.16302036,\n",
       "        0.46573   ,  0.00179597,  0.35371148,  0.34014256, -0.01725175,\n",
       "        0.11252105,  0.29213058,  0.38145241,  0.37903277,  0.16307004,\n",
       "        0.19728756,  0.18913008,  0.0220911 ,  0.08632918,  0.53929577,\n",
       "        0.40553417,  0.54913728,  0.02427146,  0.08722678,  0.47058057,\n",
       "        0.24635855,  0.43117446,  0.13333954,  0.16907809,  0.11423769,\n",
       "        0.12895619,  0.29694645,  0.19397501,  0.10153715,  0.24761371,\n",
       "        0.2859672 ,  0.30832447,  0.35166767,  0.39008624, -0.07214789,\n",
       "        0.27615974,  0.32167583, -0.17094532,  0.38226905,  0.0584584 ,\n",
       "        0.0585708 , -0.17617131,  0.21570188,  0.10802872,  0.52486345])"
      ]
     },
     "execution_count": 140,
     "metadata": {},
     "output_type": "execute_result"
    }
   ],
   "source": [
    "l"
   ]
  }
 ],
 "metadata": {
  "kernelspec": {
   "display_name": "Python 3",
   "language": "python",
   "name": "python3"
  },
  "language_info": {
   "codemirror_mode": {
    "name": "ipython",
    "version": 3
   },
   "file_extension": ".py",
   "mimetype": "text/x-python",
   "name": "python",
   "nbconvert_exporter": "python",
   "pygments_lexer": "ipython3",
   "version": "3.5.1"
  }
 },
 "nbformat": 4,
 "nbformat_minor": 0
}
