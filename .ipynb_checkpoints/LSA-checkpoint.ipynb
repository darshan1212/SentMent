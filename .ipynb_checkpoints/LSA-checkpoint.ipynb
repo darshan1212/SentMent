{
 "cells": [
  {
   "cell_type": "code",
   "execution_count": 22,
   "metadata": {
    "collapsed": true
   },
   "outputs": [],
   "source": [
    "import numpy as np\n",
    "from numpy import matrix"
   ]
  },
  {
   "cell_type": "markdown",
   "metadata": {},
   "source": [
    "## Initializing files containing decomposed matrix"
   ]
  },
  {
   "cell_type": "code",
   "execution_count": 66,
   "metadata": {
    "collapsed": true
   },
   "outputs": [],
   "source": [
    "left = ['../data/output_l2/left_singular_vectors_l2/part-00000.tsv', '../data/output_l2/left_singular_vectors_l2/part-00001.tsv']\n",
    "sing = ['../data/output_l2/singular_values_l2/part-00000.tsv']\n",
    "right = ['../data/output_l2/right_singular_vectors_l2/part-00000.tsv']\n",
    "\n",
    "orig = '../data/tfidf_l1.tsv'"
   ]
  },
  {
   "cell_type": "markdown",
   "metadata": {},
   "source": [
    "## Loading left"
   ]
  },
  {
   "cell_type": "code",
   "execution_count": 61,
   "metadata": {
    "collapsed": false
   },
   "outputs": [],
   "source": [
    "n_lines = 0\n",
    "\n",
    "for file in left:\n",
    "    f = open(file, 'r')\n",
    "    for line in f:\n",
    "        n_lines += 1\n",
    "    \n",
    "n_cols = len(line.split(\"\\t\")) - 1\n",
    "\n",
    "l_matrix = np.zeros(shape=(n_lines, n_cols))\n",
    "\n",
    "for file in left:\n",
    "    f = open(file, 'r')\n",
    "    for line in f:\n",
    "        vals = line.split(\"\\t\")\n",
    "        arr = np.array([float(x) for x in vals])\n",
    "        l_matrix[int(vals[0])] = arr[1:]"
   ]
  },
  {
   "cell_type": "markdown",
   "metadata": {},
   "source": [
    "## Loading right"
   ]
  },
  {
   "cell_type": "code",
   "execution_count": 62,
   "metadata": {
    "collapsed": false
   },
   "outputs": [],
   "source": [
    "n_lines = 0\n",
    "\n",
    "for file in right:\n",
    "    f = open(file, 'r')\n",
    "    for line in f:\n",
    "        n_lines += 1\n",
    "\n",
    "n_cols = len(line.split(\"\\t\")) - 1\n",
    "\n",
    "r_matrix = np.zeros(shape=(n_lines, n_cols))\n",
    "\n",
    "for file in right:\n",
    "    f = open(file, 'r')\n",
    "    for line in f:\n",
    "        vals = line.split(\"\\t\")\n",
    "        arr = np.array([float(x) for x in vals])\n",
    "        r_matrix[int(vals[0])] = arr[1:]"
   ]
  },
  {
   "cell_type": "markdown",
   "metadata": {},
   "source": [
    "## Loading singular"
   ]
  },
  {
   "cell_type": "code",
   "execution_count": 63,
   "metadata": {
    "collapsed": false
   },
   "outputs": [],
   "source": [
    "n_lines = 0\n",
    "\n",
    "for file in sing:\n",
    "    f = open(file, 'r')\n",
    "    for line in f:\n",
    "        n_lines += 1\n",
    "\n",
    "s_matrix = np.zeros(shape=(n_lines, n_lines))\n",
    "\n",
    "row = 0\n",
    "for file in sing:\n",
    "    f = open(file, 'r')\n",
    "    for line in f:\n",
    "        s_matrix[row, row] = float(line)\n",
    "        row += 1"
   ]
  },
  {
   "cell_type": "code",
   "execution_count": 69,
   "metadata": {
    "collapsed": false
   },
   "outputs": [
    {
     "data": {
      "text/plain": [
       "(2311, 110)"
      ]
     },
     "execution_count": 69,
     "metadata": {},
     "output_type": "execute_result"
    }
   ],
   "source": [
    "o_matrix = np.loadtxt(orig)\n",
    "o_matrix.shape"
   ]
  },
  {
   "cell_type": "markdown",
   "metadata": {},
   "source": [
    "Qt U S-1"
   ]
  },
  {
   "cell_type": "code",
   "execution_count": null,
   "metadata": {
    "collapsed": true
   },
   "outputs": [],
   "source": []
  }
 ],
 "metadata": {
  "kernelspec": {
   "display_name": "Python 3",
   "language": "python",
   "name": "python3"
  },
  "language_info": {
   "codemirror_mode": {
    "name": "ipython",
    "version": 3
   },
   "file_extension": ".py",
   "mimetype": "text/x-python",
   "name": "python",
   "nbconvert_exporter": "python",
   "pygments_lexer": "ipython3",
   "version": "3.5.1"
  }
 },
 "nbformat": 4,
 "nbformat_minor": 0
}
